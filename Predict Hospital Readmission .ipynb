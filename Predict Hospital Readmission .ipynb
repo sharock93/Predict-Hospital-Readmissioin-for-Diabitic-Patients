{
 "cells": [
  {
   "cell_type": "markdown",
   "metadata": {},
   "source": [
    "## Predict Hospital Re-admission probability for diabetic patients\n",
    "### Connecting to the repository"
   ]
  },
  {
   "cell_type": "code",
   "execution_count": 1,
   "metadata": {},
   "outputs": [
    {
     "name": "stdout",
     "output_type": "stream",
     "text": [
      "C:\\Users\\Shashwat Gupta\\Desktop\\Hospital Data\\Github\n"
     ]
    }
   ],
   "source": [
    "cd C:\\Users\\Shashwat Gupta\\Desktop\\Hospital Data\\Github"
   ]
  },
  {
   "cell_type": "markdown",
   "metadata": {},
   "source": [
    "## Loading Packages"
   ]
  },
  {
   "cell_type": "code",
   "execution_count": 2,
   "metadata": {},
   "outputs": [],
   "source": [
    "import pandas as pd\n",
    "import matplotlib.pyplot as plt\n",
    "import seaborn as sns\n",
    "from sklearn.ensemble import ExtraTreesClassifier\n",
    "from sklearn.preprocessing import MinMaxScaler\n",
    "from sklearn.model_selection import train_test_split\n",
    "from sklearn.metrics import confusion_matrix\n",
    "from sklearn.linear_model import LogisticRegression\n",
    "from tensorflow.keras import Sequential \n",
    "from tensorflow.keras.layers import Dense\n",
    "from sklearn.metrics import recall_score\n",
    "import openpyxl\n",
    "%matplotlib inline"
   ]
  },
  {
   "cell_type": "markdown",
   "metadata": {},
   "source": [
    "## Reading both train and test CSV files as data and final_test respectively"
   ]
  },
  {
   "cell_type": "code",
   "execution_count": 3,
   "metadata": {},
   "outputs": [
    {
     "data": {
      "text/html": [
       "<div>\n",
       "<style scoped>\n",
       "    .dataframe tbody tr th:only-of-type {\n",
       "        vertical-align: middle;\n",
       "    }\n",
       "\n",
       "    .dataframe tbody tr th {\n",
       "        vertical-align: top;\n",
       "    }\n",
       "\n",
       "    .dataframe thead th {\n",
       "        text-align: right;\n",
       "    }\n",
       "</style>\n",
       "<table border=\"1\" class=\"dataframe\">\n",
       "  <thead>\n",
       "    <tr style=\"text-align: right;\">\n",
       "      <th></th>\n",
       "      <th>encounter_id</th>\n",
       "      <th>patient_nbr</th>\n",
       "      <th>race</th>\n",
       "      <th>gender</th>\n",
       "      <th>age</th>\n",
       "      <th>weight</th>\n",
       "      <th>admission_type_id</th>\n",
       "      <th>discharge_disposition_id</th>\n",
       "      <th>admission_source_id</th>\n",
       "      <th>time_in_hospital</th>\n",
       "      <th>...</th>\n",
       "      <th>citoglipton</th>\n",
       "      <th>insulin</th>\n",
       "      <th>glyburide-metformin</th>\n",
       "      <th>glipizide-metformin</th>\n",
       "      <th>glimepiride-pioglitazone</th>\n",
       "      <th>metformin-rosiglitazone</th>\n",
       "      <th>metformin-pioglitazone</th>\n",
       "      <th>change</th>\n",
       "      <th>diabetesMed</th>\n",
       "      <th>readmitted</th>\n",
       "    </tr>\n",
       "  </thead>\n",
       "  <tbody>\n",
       "    <tr>\n",
       "      <th>0</th>\n",
       "      <td>2278392</td>\n",
       "      <td>8222157</td>\n",
       "      <td>Caucasian</td>\n",
       "      <td>Female</td>\n",
       "      <td>[0-10)</td>\n",
       "      <td>?</td>\n",
       "      <td>6</td>\n",
       "      <td>25</td>\n",
       "      <td>1</td>\n",
       "      <td>1</td>\n",
       "      <td>...</td>\n",
       "      <td>No</td>\n",
       "      <td>No</td>\n",
       "      <td>No</td>\n",
       "      <td>No</td>\n",
       "      <td>No</td>\n",
       "      <td>No</td>\n",
       "      <td>No</td>\n",
       "      <td>No</td>\n",
       "      <td>No</td>\n",
       "      <td>N</td>\n",
       "    </tr>\n",
       "    <tr>\n",
       "      <th>1</th>\n",
       "      <td>149190</td>\n",
       "      <td>55629189</td>\n",
       "      <td>Caucasian</td>\n",
       "      <td>Female</td>\n",
       "      <td>[10-20)</td>\n",
       "      <td>?</td>\n",
       "      <td>1</td>\n",
       "      <td>1</td>\n",
       "      <td>7</td>\n",
       "      <td>3</td>\n",
       "      <td>...</td>\n",
       "      <td>No</td>\n",
       "      <td>Up</td>\n",
       "      <td>No</td>\n",
       "      <td>No</td>\n",
       "      <td>No</td>\n",
       "      <td>No</td>\n",
       "      <td>No</td>\n",
       "      <td>Ch</td>\n",
       "      <td>Yes</td>\n",
       "      <td>N</td>\n",
       "    </tr>\n",
       "    <tr>\n",
       "      <th>2</th>\n",
       "      <td>64410</td>\n",
       "      <td>86047875</td>\n",
       "      <td>AfricanAmerican</td>\n",
       "      <td>Female</td>\n",
       "      <td>[20-30)</td>\n",
       "      <td>?</td>\n",
       "      <td>1</td>\n",
       "      <td>1</td>\n",
       "      <td>7</td>\n",
       "      <td>2</td>\n",
       "      <td>...</td>\n",
       "      <td>No</td>\n",
       "      <td>No</td>\n",
       "      <td>No</td>\n",
       "      <td>No</td>\n",
       "      <td>No</td>\n",
       "      <td>No</td>\n",
       "      <td>No</td>\n",
       "      <td>No</td>\n",
       "      <td>Yes</td>\n",
       "      <td>N</td>\n",
       "    </tr>\n",
       "    <tr>\n",
       "      <th>3</th>\n",
       "      <td>500364</td>\n",
       "      <td>82442376</td>\n",
       "      <td>Caucasian</td>\n",
       "      <td>Male</td>\n",
       "      <td>[30-40)</td>\n",
       "      <td>?</td>\n",
       "      <td>1</td>\n",
       "      <td>1</td>\n",
       "      <td>7</td>\n",
       "      <td>2</td>\n",
       "      <td>...</td>\n",
       "      <td>No</td>\n",
       "      <td>Up</td>\n",
       "      <td>No</td>\n",
       "      <td>No</td>\n",
       "      <td>No</td>\n",
       "      <td>No</td>\n",
       "      <td>No</td>\n",
       "      <td>Ch</td>\n",
       "      <td>Yes</td>\n",
       "      <td>N</td>\n",
       "    </tr>\n",
       "    <tr>\n",
       "      <th>4</th>\n",
       "      <td>16680</td>\n",
       "      <td>42519267</td>\n",
       "      <td>Caucasian</td>\n",
       "      <td>Male</td>\n",
       "      <td>[40-50)</td>\n",
       "      <td>?</td>\n",
       "      <td>1</td>\n",
       "      <td>1</td>\n",
       "      <td>7</td>\n",
       "      <td>1</td>\n",
       "      <td>...</td>\n",
       "      <td>No</td>\n",
       "      <td>Steady</td>\n",
       "      <td>No</td>\n",
       "      <td>No</td>\n",
       "      <td>No</td>\n",
       "      <td>No</td>\n",
       "      <td>No</td>\n",
       "      <td>Ch</td>\n",
       "      <td>Yes</td>\n",
       "      <td>N</td>\n",
       "    </tr>\n",
       "  </tbody>\n",
       "</table>\n",
       "<p>5 rows × 50 columns</p>\n",
       "</div>"
      ],
      "text/plain": [
       "   encounter_id  patient_nbr             race  gender      age weight  \\\n",
       "0       2278392      8222157        Caucasian  Female   [0-10)      ?   \n",
       "1        149190     55629189        Caucasian  Female  [10-20)      ?   \n",
       "2         64410     86047875  AfricanAmerican  Female  [20-30)      ?   \n",
       "3        500364     82442376        Caucasian    Male  [30-40)      ?   \n",
       "4         16680     42519267        Caucasian    Male  [40-50)      ?   \n",
       "\n",
       "   admission_type_id  discharge_disposition_id  admission_source_id  \\\n",
       "0                  6                        25                    1   \n",
       "1                  1                         1                    7   \n",
       "2                  1                         1                    7   \n",
       "3                  1                         1                    7   \n",
       "4                  1                         1                    7   \n",
       "\n",
       "   time_in_hospital    ...     citoglipton insulin  glyburide-metformin  \\\n",
       "0                 1    ...              No      No                   No   \n",
       "1                 3    ...              No      Up                   No   \n",
       "2                 2    ...              No      No                   No   \n",
       "3                 2    ...              No      Up                   No   \n",
       "4                 1    ...              No  Steady                   No   \n",
       "\n",
       "   glipizide-metformin  glimepiride-pioglitazone  metformin-rosiglitazone  \\\n",
       "0                   No                        No                       No   \n",
       "1                   No                        No                       No   \n",
       "2                   No                        No                       No   \n",
       "3                   No                        No                       No   \n",
       "4                   No                        No                       No   \n",
       "\n",
       "   metformin-pioglitazone  change diabetesMed readmitted  \n",
       "0                      No      No          No          N  \n",
       "1                      No      Ch         Yes          N  \n",
       "2                      No      No         Yes          N  \n",
       "3                      No      Ch         Yes          N  \n",
       "4                      No      Ch         Yes          N  \n",
       "\n",
       "[5 rows x 50 columns]"
      ]
     },
     "execution_count": 3,
     "metadata": {},
     "output_type": "execute_result"
    }
   ],
   "source": [
    "data  = pd.read_csv(\"training_data.csv\")\n",
    "data.head()"
   ]
  },
  {
   "cell_type": "code",
   "execution_count": 4,
   "metadata": {},
   "outputs": [
    {
     "data": {
      "text/html": [
       "<div>\n",
       "<style scoped>\n",
       "    .dataframe tbody tr th:only-of-type {\n",
       "        vertical-align: middle;\n",
       "    }\n",
       "\n",
       "    .dataframe tbody tr th {\n",
       "        vertical-align: top;\n",
       "    }\n",
       "\n",
       "    .dataframe thead th {\n",
       "        text-align: right;\n",
       "    }\n",
       "</style>\n",
       "<table border=\"1\" class=\"dataframe\">\n",
       "  <thead>\n",
       "    <tr style=\"text-align: right;\">\n",
       "      <th></th>\n",
       "      <th>encounter_id</th>\n",
       "      <th>patient_nbr</th>\n",
       "      <th>race</th>\n",
       "      <th>gender</th>\n",
       "      <th>age</th>\n",
       "      <th>weight</th>\n",
       "      <th>admission_type_id</th>\n",
       "      <th>discharge_disposition_id</th>\n",
       "      <th>admission_source_id</th>\n",
       "      <th>time_in_hospital</th>\n",
       "      <th>...</th>\n",
       "      <th>examide</th>\n",
       "      <th>citoglipton</th>\n",
       "      <th>insulin</th>\n",
       "      <th>glyburide-metformin</th>\n",
       "      <th>glipizide-metformin</th>\n",
       "      <th>glimepiride-pioglitazone</th>\n",
       "      <th>metformin-rosiglitazone</th>\n",
       "      <th>metformin-pioglitazone</th>\n",
       "      <th>change</th>\n",
       "      <th>diabetesMed</th>\n",
       "    </tr>\n",
       "  </thead>\n",
       "  <tbody>\n",
       "    <tr>\n",
       "      <th>0</th>\n",
       "      <td>15738</td>\n",
       "      <td>63555939</td>\n",
       "      <td>Caucasian</td>\n",
       "      <td>Female</td>\n",
       "      <td>[90-100)</td>\n",
       "      <td>?</td>\n",
       "      <td>3</td>\n",
       "      <td>3</td>\n",
       "      <td>4</td>\n",
       "      <td>12</td>\n",
       "      <td>...</td>\n",
       "      <td>No</td>\n",
       "      <td>No</td>\n",
       "      <td>Steady</td>\n",
       "      <td>No</td>\n",
       "      <td>No</td>\n",
       "      <td>No</td>\n",
       "      <td>No</td>\n",
       "      <td>No</td>\n",
       "      <td>Ch</td>\n",
       "      <td>Yes</td>\n",
       "    </tr>\n",
       "    <tr>\n",
       "      <th>1</th>\n",
       "      <td>62256</td>\n",
       "      <td>49726791</td>\n",
       "      <td>AfricanAmerican</td>\n",
       "      <td>Female</td>\n",
       "      <td>[60-70)</td>\n",
       "      <td>?</td>\n",
       "      <td>3</td>\n",
       "      <td>1</td>\n",
       "      <td>2</td>\n",
       "      <td>1</td>\n",
       "      <td>...</td>\n",
       "      <td>No</td>\n",
       "      <td>No</td>\n",
       "      <td>Steady</td>\n",
       "      <td>No</td>\n",
       "      <td>No</td>\n",
       "      <td>No</td>\n",
       "      <td>No</td>\n",
       "      <td>No</td>\n",
       "      <td>No</td>\n",
       "      <td>Yes</td>\n",
       "    </tr>\n",
       "    <tr>\n",
       "      <th>2</th>\n",
       "      <td>150006</td>\n",
       "      <td>22864131</td>\n",
       "      <td>?</td>\n",
       "      <td>Female</td>\n",
       "      <td>[50-60)</td>\n",
       "      <td>?</td>\n",
       "      <td>2</td>\n",
       "      <td>1</td>\n",
       "      <td>4</td>\n",
       "      <td>2</td>\n",
       "      <td>...</td>\n",
       "      <td>No</td>\n",
       "      <td>No</td>\n",
       "      <td>Down</td>\n",
       "      <td>No</td>\n",
       "      <td>No</td>\n",
       "      <td>No</td>\n",
       "      <td>No</td>\n",
       "      <td>No</td>\n",
       "      <td>Ch</td>\n",
       "      <td>Yes</td>\n",
       "    </tr>\n",
       "    <tr>\n",
       "      <th>3</th>\n",
       "      <td>183930</td>\n",
       "      <td>107400762</td>\n",
       "      <td>Caucasian</td>\n",
       "      <td>Female</td>\n",
       "      <td>[80-90)</td>\n",
       "      <td>?</td>\n",
       "      <td>2</td>\n",
       "      <td>6</td>\n",
       "      <td>1</td>\n",
       "      <td>11</td>\n",
       "      <td>...</td>\n",
       "      <td>No</td>\n",
       "      <td>No</td>\n",
       "      <td>No</td>\n",
       "      <td>No</td>\n",
       "      <td>No</td>\n",
       "      <td>No</td>\n",
       "      <td>No</td>\n",
       "      <td>No</td>\n",
       "      <td>No</td>\n",
       "      <td>No</td>\n",
       "    </tr>\n",
       "    <tr>\n",
       "      <th>4</th>\n",
       "      <td>248916</td>\n",
       "      <td>115196778</td>\n",
       "      <td>Caucasian</td>\n",
       "      <td>Female</td>\n",
       "      <td>[50-60)</td>\n",
       "      <td>?</td>\n",
       "      <td>1</td>\n",
       "      <td>1</td>\n",
       "      <td>1</td>\n",
       "      <td>2</td>\n",
       "      <td>...</td>\n",
       "      <td>No</td>\n",
       "      <td>No</td>\n",
       "      <td>Steady</td>\n",
       "      <td>No</td>\n",
       "      <td>No</td>\n",
       "      <td>No</td>\n",
       "      <td>No</td>\n",
       "      <td>No</td>\n",
       "      <td>No</td>\n",
       "      <td>Yes</td>\n",
       "    </tr>\n",
       "  </tbody>\n",
       "</table>\n",
       "<p>5 rows × 49 columns</p>\n",
       "</div>"
      ],
      "text/plain": [
       "   encounter_id  patient_nbr             race  gender       age weight  \\\n",
       "0         15738     63555939        Caucasian  Female  [90-100)      ?   \n",
       "1         62256     49726791  AfricanAmerican  Female   [60-70)      ?   \n",
       "2        150006     22864131                ?  Female   [50-60)      ?   \n",
       "3        183930    107400762        Caucasian  Female   [80-90)      ?   \n",
       "4        248916    115196778        Caucasian  Female   [50-60)      ?   \n",
       "\n",
       "   admission_type_id  discharge_disposition_id  admission_source_id  \\\n",
       "0                  3                         3                    4   \n",
       "1                  3                         1                    2   \n",
       "2                  2                         1                    4   \n",
       "3                  2                         6                    1   \n",
       "4                  1                         1                    1   \n",
       "\n",
       "   time_in_hospital     ...     examide citoglipton  insulin  \\\n",
       "0                12     ...          No          No   Steady   \n",
       "1                 1     ...          No          No   Steady   \n",
       "2                 2     ...          No          No     Down   \n",
       "3                11     ...          No          No       No   \n",
       "4                 2     ...          No          No   Steady   \n",
       "\n",
       "   glyburide-metformin  glipizide-metformin  glimepiride-pioglitazone  \\\n",
       "0                   No                   No                        No   \n",
       "1                   No                   No                        No   \n",
       "2                   No                   No                        No   \n",
       "3                   No                   No                        No   \n",
       "4                   No                   No                        No   \n",
       "\n",
       "   metformin-rosiglitazone  metformin-pioglitazone change diabetesMed  \n",
       "0                       No                      No     Ch         Yes  \n",
       "1                       No                      No     No         Yes  \n",
       "2                       No                      No     Ch         Yes  \n",
       "3                       No                      No     No          No  \n",
       "4                       No                      No     No         Yes  \n",
       "\n",
       "[5 rows x 49 columns]"
      ]
     },
     "execution_count": 4,
     "metadata": {},
     "output_type": "execute_result"
    }
   ],
   "source": [
    "final_test = pd.read_csv(\"test_data.csv\")\n",
    "final_test.head()"
   ]
  },
  {
   "cell_type": "markdown",
   "metadata": {},
   "source": [
    "### EDA ( Exploratory Data Analysis)¶\n",
    "#### Data Insights of - training_data.csv\n",
    "#### Data Structure"
   ]
  },
  {
   "cell_type": "code",
   "execution_count": 5,
   "metadata": {},
   "outputs": [
    {
     "data": {
      "text/plain": [
       "(81414, 50)"
      ]
     },
     "execution_count": 5,
     "metadata": {},
     "output_type": "execute_result"
    }
   ],
   "source": [
    "data.shape"
   ]
  },
  {
   "cell_type": "code",
   "execution_count": 6,
   "metadata": {},
   "outputs": [
    {
     "name": "stdout",
     "output_type": "stream",
     "text": [
      "<class 'pandas.core.frame.DataFrame'>\n",
      "RangeIndex: 81414 entries, 0 to 81413\n",
      "Data columns (total 50 columns):\n",
      "encounter_id                81414 non-null int64\n",
      "patient_nbr                 81414 non-null int64\n",
      "race                        81414 non-null object\n",
      "gender                      81414 non-null object\n",
      "age                         81414 non-null object\n",
      "weight                      81414 non-null object\n",
      "admission_type_id           81414 non-null int64\n",
      "discharge_disposition_id    81414 non-null int64\n",
      "admission_source_id         81414 non-null int64\n",
      "time_in_hospital            81414 non-null int64\n",
      "payer_code                  81414 non-null object\n",
      "medical_specialty           81414 non-null object\n",
      "num_lab_procedures          81414 non-null int64\n",
      "num_procedures              81414 non-null int64\n",
      "num_medications             81414 non-null int64\n",
      "number_outpatient           81414 non-null int64\n",
      "number_emergency            81414 non-null int64\n",
      "number_inpatient            81414 non-null int64\n",
      "diag_1                      81414 non-null object\n",
      "diag_2                      81414 non-null object\n",
      "diag_3                      81414 non-null object\n",
      "number_diagnoses            81414 non-null int64\n",
      "max_glu_serum               81414 non-null object\n",
      "A1Cresult                   81414 non-null object\n",
      "metformin                   81414 non-null object\n",
      "repaglinide                 81414 non-null object\n",
      "nateglinide                 81414 non-null object\n",
      "chlorpropamide              81414 non-null object\n",
      "glimepiride                 81414 non-null object\n",
      "acetohexamide               81414 non-null object\n",
      "glipizide                   81414 non-null object\n",
      "glyburide                   81414 non-null object\n",
      "tolbutamide                 81414 non-null object\n",
      "pioglitazone                81414 non-null object\n",
      "rosiglitazone               81414 non-null object\n",
      "acarbose                    81414 non-null object\n",
      "miglitol                    81414 non-null object\n",
      "troglitazone                81414 non-null object\n",
      "tolazamide                  81414 non-null object\n",
      "examide                     81414 non-null object\n",
      "citoglipton                 81414 non-null object\n",
      "insulin                     81414 non-null object\n",
      "glyburide-metformin         81414 non-null object\n",
      "glipizide-metformin         81414 non-null object\n",
      "glimepiride-pioglitazone    81414 non-null object\n",
      "metformin-rosiglitazone     81414 non-null object\n",
      "metformin-pioglitazone      81414 non-null object\n",
      "change                      81414 non-null object\n",
      "diabetesMed                 81414 non-null object\n",
      "readmitted                  81414 non-null object\n",
      "dtypes: int64(13), object(37)\n",
      "memory usage: 31.1+ MB\n"
     ]
    }
   ],
   "source": [
    "data.info()"
   ]
  },
  {
   "cell_type": "markdown",
   "metadata": {},
   "source": [
    "### Key Observations:\n",
    " * Number of rows: 81414\n",
    " * Number of columns: 50\n",
    " * Data Type: object and int\n",
    " * Null Values: '?' (No empty cell)"
   ]
  },
  {
   "cell_type": "markdown",
   "metadata": {},
   "source": [
    "## Summary Statistics"
   ]
  },
  {
   "cell_type": "code",
   "execution_count": 7,
   "metadata": {},
   "outputs": [
    {
     "data": {
      "text/html": [
       "<div>\n",
       "<style scoped>\n",
       "    .dataframe tbody tr th:only-of-type {\n",
       "        vertical-align: middle;\n",
       "    }\n",
       "\n",
       "    .dataframe tbody tr th {\n",
       "        vertical-align: top;\n",
       "    }\n",
       "\n",
       "    .dataframe thead th {\n",
       "        text-align: right;\n",
       "    }\n",
       "</style>\n",
       "<table border=\"1\" class=\"dataframe\">\n",
       "  <thead>\n",
       "    <tr style=\"text-align: right;\">\n",
       "      <th></th>\n",
       "      <th>encounter_id</th>\n",
       "      <th>patient_nbr</th>\n",
       "      <th>admission_type_id</th>\n",
       "      <th>discharge_disposition_id</th>\n",
       "      <th>admission_source_id</th>\n",
       "      <th>time_in_hospital</th>\n",
       "      <th>num_lab_procedures</th>\n",
       "      <th>num_procedures</th>\n",
       "      <th>num_medications</th>\n",
       "      <th>number_outpatient</th>\n",
       "      <th>number_emergency</th>\n",
       "      <th>number_inpatient</th>\n",
       "      <th>number_diagnoses</th>\n",
       "    </tr>\n",
       "  </thead>\n",
       "  <tbody>\n",
       "    <tr>\n",
       "      <th>count</th>\n",
       "      <td>8.141400e+04</td>\n",
       "      <td>8.141400e+04</td>\n",
       "      <td>81414.000000</td>\n",
       "      <td>81414.000000</td>\n",
       "      <td>81414.000000</td>\n",
       "      <td>81414.000000</td>\n",
       "      <td>81414.000000</td>\n",
       "      <td>81414.000000</td>\n",
       "      <td>81414.000000</td>\n",
       "      <td>81414.000000</td>\n",
       "      <td>81414.000000</td>\n",
       "      <td>81414.000000</td>\n",
       "      <td>81414.000000</td>\n",
       "    </tr>\n",
       "    <tr>\n",
       "      <th>mean</th>\n",
       "      <td>1.652012e+08</td>\n",
       "      <td>5.430959e+07</td>\n",
       "      <td>2.020918</td>\n",
       "      <td>3.709878</td>\n",
       "      <td>5.753777</td>\n",
       "      <td>4.398334</td>\n",
       "      <td>43.158535</td>\n",
       "      <td>1.338701</td>\n",
       "      <td>16.029110</td>\n",
       "      <td>0.365686</td>\n",
       "      <td>0.199437</td>\n",
       "      <td>0.635800</td>\n",
       "      <td>7.421807</td>\n",
       "    </tr>\n",
       "    <tr>\n",
       "      <th>std</th>\n",
       "      <td>1.025322e+08</td>\n",
       "      <td>3.869402e+07</td>\n",
       "      <td>1.445327</td>\n",
       "      <td>5.267986</td>\n",
       "      <td>4.052119</td>\n",
       "      <td>2.985424</td>\n",
       "      <td>19.679930</td>\n",
       "      <td>1.705755</td>\n",
       "      <td>8.122024</td>\n",
       "      <td>1.235754</td>\n",
       "      <td>0.964611</td>\n",
       "      <td>1.262974</td>\n",
       "      <td>1.933435</td>\n",
       "    </tr>\n",
       "    <tr>\n",
       "      <th>min</th>\n",
       "      <td>1.252200e+04</td>\n",
       "      <td>1.350000e+02</td>\n",
       "      <td>1.000000</td>\n",
       "      <td>1.000000</td>\n",
       "      <td>1.000000</td>\n",
       "      <td>1.000000</td>\n",
       "      <td>1.000000</td>\n",
       "      <td>0.000000</td>\n",
       "      <td>1.000000</td>\n",
       "      <td>0.000000</td>\n",
       "      <td>0.000000</td>\n",
       "      <td>0.000000</td>\n",
       "      <td>1.000000</td>\n",
       "    </tr>\n",
       "    <tr>\n",
       "      <th>25%</th>\n",
       "      <td>8.507868e+07</td>\n",
       "      <td>2.340358e+07</td>\n",
       "      <td>1.000000</td>\n",
       "      <td>1.000000</td>\n",
       "      <td>1.000000</td>\n",
       "      <td>2.000000</td>\n",
       "      <td>31.000000</td>\n",
       "      <td>0.000000</td>\n",
       "      <td>10.000000</td>\n",
       "      <td>0.000000</td>\n",
       "      <td>0.000000</td>\n",
       "      <td>0.000000</td>\n",
       "      <td>6.000000</td>\n",
       "    </tr>\n",
       "    <tr>\n",
       "      <th>50%</th>\n",
       "      <td>1.524402e+08</td>\n",
       "      <td>4.553196e+07</td>\n",
       "      <td>1.000000</td>\n",
       "      <td>1.000000</td>\n",
       "      <td>7.000000</td>\n",
       "      <td>4.000000</td>\n",
       "      <td>44.000000</td>\n",
       "      <td>1.000000</td>\n",
       "      <td>15.000000</td>\n",
       "      <td>0.000000</td>\n",
       "      <td>0.000000</td>\n",
       "      <td>0.000000</td>\n",
       "      <td>8.000000</td>\n",
       "    </tr>\n",
       "    <tr>\n",
       "      <th>75%</th>\n",
       "      <td>2.301472e+08</td>\n",
       "      <td>8.750457e+07</td>\n",
       "      <td>3.000000</td>\n",
       "      <td>3.000000</td>\n",
       "      <td>7.000000</td>\n",
       "      <td>6.000000</td>\n",
       "      <td>57.000000</td>\n",
       "      <td>2.000000</td>\n",
       "      <td>20.000000</td>\n",
       "      <td>0.000000</td>\n",
       "      <td>0.000000</td>\n",
       "      <td>1.000000</td>\n",
       "      <td>9.000000</td>\n",
       "    </tr>\n",
       "    <tr>\n",
       "      <th>max</th>\n",
       "      <td>4.438672e+08</td>\n",
       "      <td>1.895026e+08</td>\n",
       "      <td>8.000000</td>\n",
       "      <td>28.000000</td>\n",
       "      <td>25.000000</td>\n",
       "      <td>14.000000</td>\n",
       "      <td>132.000000</td>\n",
       "      <td>6.000000</td>\n",
       "      <td>81.000000</td>\n",
       "      <td>42.000000</td>\n",
       "      <td>76.000000</td>\n",
       "      <td>21.000000</td>\n",
       "      <td>16.000000</td>\n",
       "    </tr>\n",
       "  </tbody>\n",
       "</table>\n",
       "</div>"
      ],
      "text/plain": [
       "       encounter_id   patient_nbr  admission_type_id  \\\n",
       "count  8.141400e+04  8.141400e+04       81414.000000   \n",
       "mean   1.652012e+08  5.430959e+07           2.020918   \n",
       "std    1.025322e+08  3.869402e+07           1.445327   \n",
       "min    1.252200e+04  1.350000e+02           1.000000   \n",
       "25%    8.507868e+07  2.340358e+07           1.000000   \n",
       "50%    1.524402e+08  4.553196e+07           1.000000   \n",
       "75%    2.301472e+08  8.750457e+07           3.000000   \n",
       "max    4.438672e+08  1.895026e+08           8.000000   \n",
       "\n",
       "       discharge_disposition_id  admission_source_id  time_in_hospital  \\\n",
       "count              81414.000000         81414.000000      81414.000000   \n",
       "mean                   3.709878             5.753777          4.398334   \n",
       "std                    5.267986             4.052119          2.985424   \n",
       "min                    1.000000             1.000000          1.000000   \n",
       "25%                    1.000000             1.000000          2.000000   \n",
       "50%                    1.000000             7.000000          4.000000   \n",
       "75%                    3.000000             7.000000          6.000000   \n",
       "max                   28.000000            25.000000         14.000000   \n",
       "\n",
       "       num_lab_procedures  num_procedures  num_medications  number_outpatient  \\\n",
       "count        81414.000000    81414.000000     81414.000000       81414.000000   \n",
       "mean            43.158535        1.338701        16.029110           0.365686   \n",
       "std             19.679930        1.705755         8.122024           1.235754   \n",
       "min              1.000000        0.000000         1.000000           0.000000   \n",
       "25%             31.000000        0.000000        10.000000           0.000000   \n",
       "50%             44.000000        1.000000        15.000000           0.000000   \n",
       "75%             57.000000        2.000000        20.000000           0.000000   \n",
       "max            132.000000        6.000000        81.000000          42.000000   \n",
       "\n",
       "       number_emergency  number_inpatient  number_diagnoses  \n",
       "count      81414.000000      81414.000000      81414.000000  \n",
       "mean           0.199437          0.635800          7.421807  \n",
       "std            0.964611          1.262974          1.933435  \n",
       "min            0.000000          0.000000          1.000000  \n",
       "25%            0.000000          0.000000          6.000000  \n",
       "50%            0.000000          0.000000          8.000000  \n",
       "75%            0.000000          1.000000          9.000000  \n",
       "max           76.000000         21.000000         16.000000  "
      ]
     },
     "execution_count": 7,
     "metadata": {},
     "output_type": "execute_result"
    }
   ],
   "source": [
    "data.describe()"
   ]
  },
  {
   "cell_type": "markdown",
   "metadata": {},
   "source": [
    "### Key observations:\n",
    "* No null values in integer columns\n",
    "* There are outliers in almost every column and that might indicate a pattern in healthcare data\n",
    "* There are 5 id's columns and that should indicate catagorical nature of those columns"
   ]
  },
  {
   "cell_type": "markdown",
   "metadata": {},
   "source": [
    "### Data catagory counts and uniqueness"
   ]
  },
  {
   "cell_type": "code",
   "execution_count": 8,
   "metadata": {},
   "outputs": [
    {
     "data": {
      "text/plain": [
       "Caucasian          60842\n",
       "AfricanAmerican    15413\n",
       "?                   1813\n",
       "Hispanic            1617\n",
       "Other               1216\n",
       "Asian                513\n",
       "Name: race, dtype: int64"
      ]
     },
     "execution_count": 8,
     "metadata": {},
     "output_type": "execute_result"
    }
   ],
   "source": [
    "data.race.value_counts()"
   ]
  },
  {
   "cell_type": "code",
   "execution_count": 9,
   "metadata": {},
   "outputs": [
    {
     "data": {
      "text/plain": [
       "Female             43752\n",
       "Male               37660\n",
       "Unknown/Invalid        2\n",
       "Name: gender, dtype: int64"
      ]
     },
     "execution_count": 9,
     "metadata": {},
     "output_type": "execute_result"
    }
   ],
   "source": [
    "data.gender.value_counts()"
   ]
  },
  {
   "cell_type": "code",
   "execution_count": 10,
   "metadata": {},
   "outputs": [
    {
     "data": {
      "text/plain": [
       "[70-80)     20890\n",
       "[60-70)     18059\n",
       "[80-90)     13800\n",
       "[50-60)     13736\n",
       "[40-50)      7708\n",
       "[30-40)      3019\n",
       "[90-100)     2216\n",
       "[20-30)      1312\n",
       "[10-20)       547\n",
       "[0-10)        127\n",
       "Name: age, dtype: int64"
      ]
     },
     "execution_count": 10,
     "metadata": {},
     "output_type": "execute_result"
    }
   ],
   "source": [
    "data.age.value_counts()"
   ]
  },
  {
   "cell_type": "code",
   "execution_count": 11,
   "metadata": {},
   "outputs": [
    {
     "data": {
      "text/plain": [
       "1    43317\n",
       "3    15023\n",
       "2    14754\n",
       "6     4221\n",
       "5     3812\n",
       "8      263\n",
       "7       17\n",
       "4        7\n",
       "Name: admission_type_id, dtype: int64"
      ]
     },
     "execution_count": 11,
     "metadata": {},
     "output_type": "execute_result"
    }
   ],
   "source": [
    "data.admission_type_id.value_counts()"
   ]
  },
  {
   "cell_type": "code",
   "execution_count": 12,
   "metadata": {},
   "outputs": [
    {
     "data": {
      "text/plain": [
       "1     48196\n",
       "3     11172\n",
       "6     10325\n",
       "18     2937\n",
       "2      1713\n",
       "22     1618\n",
       "11     1333\n",
       "5       939\n",
       "25      773\n",
       "4       634\n",
       "7       509\n",
       "13      320\n",
       "23      319\n",
       "14      283\n",
       "28      104\n",
       "8        85\n",
       "15       56\n",
       "24       43\n",
       "9        16\n",
       "16       11\n",
       "17       11\n",
       "19        6\n",
       "10        5\n",
       "12        3\n",
       "27        2\n",
       "20        1\n",
       "Name: discharge_disposition_id, dtype: int64"
      ]
     },
     "execution_count": 12,
     "metadata": {},
     "output_type": "execute_result"
    }
   ],
   "source": [
    "data.discharge_disposition_id.value_counts()"
   ]
  },
  {
   "cell_type": "code",
   "execution_count": 13,
   "metadata": {},
   "outputs": [
    {
     "data": {
      "text/plain": [
       "No    43758\n",
       "Ch    37656\n",
       "Name: change, dtype: int64"
      ]
     },
     "execution_count": 13,
     "metadata": {},
     "output_type": "execute_result"
    }
   ],
   "source": [
    "data.change.value_counts()"
   ]
  },
  {
   "cell_type": "code",
   "execution_count": 14,
   "metadata": {},
   "outputs": [
    {
     "data": {
      "text/plain": [
       "Yes    62733\n",
       "No     18681\n",
       "Name: diabetesMed, dtype: int64"
      ]
     },
     "execution_count": 14,
     "metadata": {},
     "output_type": "execute_result"
    }
   ],
   "source": [
    "data.diabetesMed.value_counts()"
   ]
  },
  {
   "cell_type": "code",
   "execution_count": 15,
   "metadata": {},
   "outputs": [
    {
     "data": {
      "text/plain": [
       "N    72328\n",
       "Y     9086\n",
       "Name: readmitted, dtype: int64"
      ]
     },
     "execution_count": 15,
     "metadata": {},
     "output_type": "execute_result"
    }
   ],
   "source": [
    "# Target Variable (IMBALANCED DATA)\n",
    "data.readmitted.value_counts()"
   ]
  },
  {
   "cell_type": "code",
   "execution_count": 16,
   "metadata": {},
   "outputs": [
    {
     "data": {
      "text/plain": [
       "array(['Pediatrics-Endocrinology', '?', 'Family/GeneralPractice',\n",
       "       'Cardiology', 'InternalMedicine', 'Surgery-General', 'Orthopedics',\n",
       "       'Gastroenterology', 'Orthopedics-Reconstructive', 'Nephrology',\n",
       "       'Surgery-Cardiovascular/Thoracic', 'Psychiatry',\n",
       "       'Emergency/Trauma', 'Pulmonology', 'Surgery-Neuro',\n",
       "       'Obsterics&Gynecology-GynecologicOnco', 'ObstetricsandGynecology',\n",
       "       'Pediatrics', 'Hematology/Oncology', 'Otolaryngology',\n",
       "       'Surgery-Colon&Rectal', 'Pediatrics-CriticalCare', 'Endocrinology',\n",
       "       'Urology', 'Psychiatry-Child/Adolescent', 'Pediatrics-Pulmonology',\n",
       "       'Neurology', 'Anesthesiology-Pediatric', 'Radiology',\n",
       "       'Pediatrics-Hematology-Oncology', 'Gynecology', 'Oncology',\n",
       "       'Pediatrics-Neurology', 'Surgery-Plastic', 'Surgery-Thoracic',\n",
       "       'Psychology', 'PhysicalMedicineandRehabilitation',\n",
       "       'InfectiousDiseases', 'Podiatry', 'Anesthesiology',\n",
       "       'Ophthalmology', 'Pediatrics-EmergencyMedicine',\n",
       "       'Surgery-Pediatric', 'Rheumatology', 'AllergyandImmunology',\n",
       "       'Surgery-Maxillofacial', 'Pediatrics-InfectiousDiseases',\n",
       "       'Dentistry', 'Pediatrics-AllergyandImmunology', 'Surgeon',\n",
       "       'Surgery-Vascular', 'Osteopath', 'Psychiatry-Addictive',\n",
       "       'PhysicianNotFound', 'Surgery-Cardiovascular', 'Hematology',\n",
       "       'Obstetrics', 'SurgicalSpecialty', 'Radiologist', 'Pathology',\n",
       "       'Dermatology', 'SportsMedicine', 'Speech', 'Hospitalist',\n",
       "       'OutreachServices', 'Cardiology-Pediatric', 'Perinatology',\n",
       "       'Neurophysiology', 'Endocrinology-Metabolism', 'DCPTEAM',\n",
       "       'Resident'], dtype=object)"
      ]
     },
     "execution_count": 16,
     "metadata": {},
     "output_type": "execute_result"
    }
   ],
   "source": [
    "data.medical_specialty.unique()"
   ]
  },
  {
   "cell_type": "code",
   "execution_count": 17,
   "metadata": {},
   "outputs": [
    {
     "data": {
      "text/plain": [
       "array(['250.83', '276', '648', '8', '197', '414', '428', '398', '250.7',\n",
       "       '157', '999', '410', '682', '402', '737', '572', '189', '786',\n",
       "       '427', '277', '584', '462', '473', '411', '486', '998', '996',\n",
       "       '511', '432', '626', '295', '250.6', '618', '182', '423', '808',\n",
       "       '250.4', '722', '403', '250.11', '784', '707', '440', '151', '715',\n",
       "       '997', '198', '564', '38', '590', '556', '578', '250.32', '433',\n",
       "       'V58', '569', '185', '434', '536', '255', '250.13', '599', '558',\n",
       "       '574', '491', '560', '244', '250.03', '730', '188', '824', '250.8',\n",
       "       '332', '291', '562', '510', '401', '263', '70', '250.02', '493',\n",
       "       '642', '625', '593', '807', '456', '446', '518', '250.41', '820',\n",
       "       '515', '780', '250.22', 'V57', '577', '995', '235', '196', '721',\n",
       "       '162', '724', '282', '514', 'V55', '250.33', '530', '466', '296',\n",
       "       '435', '250.12', 'V53', '789', '566', '191', '733', '455', '711',\n",
       "       '482', '575', '202', '553', '225', '154', '571', '441', '250.81',\n",
       "       '349', '?', '557', '962', '592', '507', '386', '156', '728', '348',\n",
       "       '459', '388', '607', '337', '82', '531', '812', '596', '288',\n",
       "       '787', '573', '492', '220', '516', '210', '922', '885', '958',\n",
       "       '661', '250.93', '227', '112', '404', '823', '532', '346', '535',\n",
       "       '453', '250', '595', '250.82', '211', '303', '286', '852', '218',\n",
       "       '782', '540', '431', '550', '351', '601', '723', '555', '153',\n",
       "       '380', '204', '426', '424', '241', '174', '358', '694', '331',\n",
       "       '250.01', '681', '447', '290', '579', '436', '335', '309', '654',\n",
       "       '805', '799', '969', '250.42', '280', '78', '851', '458', '738',\n",
       "       '586', '311', '54', '892', '293', '591', '794', '803', '79', '655',\n",
       "       '429', '278', '658', '729', '585', '444', '604', '727', '214',\n",
       "       '552', '680', '158', '708', '481', '415', '821', '413', '416',\n",
       "       '437', '285', '968', '756', '632', '359', '512', '781', '420',\n",
       "       '368', '522', '292', '294', '825', '135', '320', '250.31', '669',\n",
       "       '496', '826', '3', '203', '53', '438', '251', '565', '161', '495',\n",
       "       '49', '250.1', '297', '663', '250.43', '576', '355', '850', '287',\n",
       "       '284', '611', '840', '350', '726', '537', '620', '180', '783',\n",
       "       '11', '598', '250.3', '464', '580', '836', '813', '966', '281',\n",
       "       '283', '965', '304', '443', '480', '608', '333', '212', '117',\n",
       "       '924', '959', '199', '621', '238', '785', '942', '250.23', '47',\n",
       "       '933', '567', '508', '478', '844', '736', '233', '42', '250.5',\n",
       "       '397', '395', '201', '421', '250.92', '600', '494', '977', '716',\n",
       "       '39', '659', '312', '614', '647', '652', '646', '425', '527',\n",
       "       '451', '345', '485', '217', '970', '656', '193', '160', '581',\n",
       "       '788', '623', '644', '374', '714', '582', '568', '465', '801',\n",
       "       '237', '376', '253', '822', '913', '226', '617', '987', '641',\n",
       "       '298', '790', '362', '228', '513', '340', '383', '746', '250.2',\n",
       "       '911', '506', '873', '442', '534', '802', 'V45', '396', '310',\n",
       "       '341', '242', '719', '239', '533', '616', '519', '301', 'V66', '5',\n",
       "       '200', '989', '230', '300', '853', '871', '570', '848', '845', '9',\n",
       "       '934', '250.21', '236', '361', '594', '501', '643', '274', '528',\n",
       "       '205', '289', '791', '983', '992', '461', '490', '475', '171',\n",
       "       '622', '306', '863', '864', '474', '660', '356', '155', '967',\n",
       "       '551', '430', '695', '250.53', '187', '732', '747', '323', '308',\n",
       "       '370', '252', '152', '183', '846', '164', '305', '718', '48',\n",
       "       '266', '150', '720', '94', '170', '878', '904', 'V56', '882',\n",
       "       '843', '973', '454', '939', '860', '487', '229', '457', '991',\n",
       "       '483', '357', '692', '796', '709', '935', '936', '920', 'V26',\n",
       "       '261', '307', '262', '693', '831', '145', '223', '839', '685',\n",
       "       '710', 'V54', '34', '179', '964', '324', '334', '143', '526',\n",
       "       '588', '861', '192', 'V71', 'V67', '394', '917', '88', '219',\n",
       "       '325', '972', '792', '634', '184', '717', '994', '990', '207',\n",
       "       '637', '195', '847', '827', '686', '275', '814', 'V60', '703',\n",
       "       '865', '627', '378', '664', '342', '369', '344', '745', '705',\n",
       "       '810', '816', '541', '986', '610', '640', '753', '173', '751',\n",
       "       '835', '379', '445', '272', '382', '945', '881', '250.52', '759',\n",
       "       '866', '916', '215', '797', '891', '75', '172', '928', '906',\n",
       "       '897', '725', '867', '115', '890', '734', '521', '470', '146',\n",
       "       '696', '800', '524', '980', '384', '142', '879', '250.51', '246',\n",
       "       '208', '633', '893', '448', '955', '653', '149', '245', '883',\n",
       "       '141', '854', '838', '136', '194', 'V43', '163', '353', '147',\n",
       "       '27', '477', '318', '880', '921', '377', '471', '868', '683',\n",
       "       '175', '602', '250.91', '982', '706', '375', '417', '131', '250.9',\n",
       "       '347', '385', '735', '870', '148', '354', '61', '817', '352',\n",
       "       '674', '684', '35', '314', 'V63', '36', '57', '7', '240', '815',\n",
       "       '971', '795', '452', '963', '327', '360', '731', '41', '842',\n",
       "       '793', '665', '110', '944', '603', '405', '923', '412', '363',\n",
       "       '957', '619', '976', '698', '952', '700', '273', '97', '336',\n",
       "       '529', '66', '98', '31', '605', '52', '806', '837', '645', '886',\n",
       "       '895', '338', '523', '542', '862', '114', '463', '372', 'V70',\n",
       "       'E909', 'V07', '422', '583', '615', '279', '500', '903', '919',\n",
       "       '875', '381', '704', '23', '271', '657', '322', '832', '133',\n",
       "       '975', '833', '391', '690', '941', 'V51'], dtype=object)"
      ]
     },
     "execution_count": 17,
     "metadata": {},
     "output_type": "execute_result"
    }
   ],
   "source": [
    "data.diag_1.unique()"
   ]
  },
  {
   "cell_type": "code",
   "execution_count": 18,
   "metadata": {},
   "outputs": [
    {
     "data": {
      "text/plain": [
       "array(['No', 'Steady', 'Up', 'Down'], dtype=object)"
      ]
     },
     "execution_count": 18,
     "metadata": {},
     "output_type": "execute_result"
    }
   ],
   "source": [
    "data.glipizide.unique()"
   ]
  },
  {
   "cell_type": "code",
   "execution_count": 19,
   "metadata": {},
   "outputs": [
    {
     "data": {
      "text/plain": [
       "array(['No', 'Up', 'Steady', 'Down'], dtype=object)"
      ]
     },
     "execution_count": 19,
     "metadata": {},
     "output_type": "execute_result"
    }
   ],
   "source": [
    "data.repaglinide.unique()"
   ]
  },
  {
   "cell_type": "markdown",
   "metadata": {},
   "source": [
    "### Key Observations:¶\n",
    "* Race has 1813 null records, but those values need not to be removed as some patients have not reported their race\n",
    "* Gender has 2 Invalid/Unknown records and can be removed due to small number \n",
    "* Age have 10 catagories with maximum data above 50 year old\n",
    "* Admission_type_id should signify the catagory under which patient has taken admission like emergengy, urgent care etc\n",
    "* Discharge_diposition_id should signify the catagory under which patient discharged like expired, home discharged etc. ***we should remove the rows with expired patients as they won't come back\n",
    "* Change should signify change in medication and high number of patients were not prescribed change in medication\n",
    "* DiabetesMed should signify if medication is prescribed. Nearly 77.05 % patients were prescribed the medicine\n",
    "* Readmitted is the target variable which gives if patients are admitted again or not. Class with patient not re-admitted comprise of 88.8 % of total data. This is a clear case of class imbalance and can be evaluated by taking accuracy as precesion/recall or using SMOTE( Synthetic Minority Oversampling technique) to balance the data\n",
    "* Medical_speciality and diag_1 likely diag_2, diag_3 (should mean first diagnostic) have lots of catagorical data and should be removed\n",
    "* there are 24 diabetes medication and indicates if it was steady, increased, decreased, or not recomended. We need to figure out important medicine that affect the diabetes"
   ]
  },
  {
   "cell_type": "markdown",
   "metadata": {},
   "source": [
    "### Missing Values"
   ]
  },
  {
   "cell_type": "code",
   "execution_count": 20,
   "metadata": {},
   "outputs": [
    {
     "name": "stdout",
     "output_type": "stream",
     "text": [
      "Percentage of missing values in:  race 0.022\n",
      "Percentage of missing values in:  gender 0.0\n",
      "Percentage of missing values in:  age 0.0\n",
      "Percentage of missing values in:  weight 0.968\n",
      "Percentage of missing values in:  payer_code 0.396\n",
      "Percentage of missing values in:  medical_specialty 0.491\n",
      "Percentage of missing values in:  diag_1 0.0\n",
      "Percentage of missing values in:  diag_2 0.004\n",
      "Percentage of missing values in:  diag_3 0.014\n",
      "Percentage of missing values in:  max_glu_serum 0.0\n",
      "Percentage of missing values in:  A1Cresult 0.0\n",
      "Percentage of missing values in:  metformin 0.0\n",
      "Percentage of missing values in:  repaglinide 0.0\n",
      "Percentage of missing values in:  nateglinide 0.0\n",
      "Percentage of missing values in:  chlorpropamide 0.0\n",
      "Percentage of missing values in:  glimepiride 0.0\n",
      "Percentage of missing values in:  acetohexamide 0.0\n",
      "Percentage of missing values in:  glipizide 0.0\n",
      "Percentage of missing values in:  glyburide 0.0\n",
      "Percentage of missing values in:  tolbutamide 0.0\n",
      "Percentage of missing values in:  pioglitazone 0.0\n",
      "Percentage of missing values in:  rosiglitazone 0.0\n",
      "Percentage of missing values in:  acarbose 0.0\n",
      "Percentage of missing values in:  miglitol 0.0\n",
      "Percentage of missing values in:  troglitazone 0.0\n",
      "Percentage of missing values in:  tolazamide 0.0\n",
      "Percentage of missing values in:  examide 0.0\n",
      "Percentage of missing values in:  citoglipton 0.0\n",
      "Percentage of missing values in:  insulin 0.0\n",
      "Percentage of missing values in:  glyburide-metformin 0.0\n",
      "Percentage of missing values in:  glipizide-metformin 0.0\n",
      "Percentage of missing values in:  glimepiride-pioglitazone 0.0\n",
      "Percentage of missing values in:  metformin-rosiglitazone 0.0\n",
      "Percentage of missing values in:  metformin-pioglitazone 0.0\n",
      "Percentage of missing values in:  change 0.0\n",
      "Percentage of missing values in:  diabetesMed 0.0\n",
      "Percentage of missing values in:  readmitted 0.0\n"
     ]
    }
   ],
   "source": [
    "for col in data.columns:\n",
    "    if data[col].dtypes == object:\n",
    "        print(\"Percentage of missing values in: \",col,round((data[col][data[col]=='?']).count()/len(data),3))"
   ]
  },
  {
   "cell_type": "markdown",
   "metadata": {},
   "source": [
    "### Key Observations:¶\n",
    "* Features like race, weight, payer_code, medical_specialty, diag_2 and diag_3 have missing values\n",
    "* Features like weight, payer_code, medical_specialty should be removed straight away as they have approximately 96%, 40% and 50% data missing."
   ]
  },
  {
   "cell_type": "markdown",
   "metadata": {},
   "source": [
    "## Visualizations"
   ]
  },
  {
   "cell_type": "markdown",
   "metadata": {},
   "source": [
    "### Correlation plot"
   ]
  },
  {
   "cell_type": "code",
   "execution_count": 21,
   "metadata": {},
   "outputs": [
    {
     "data": {
      "text/plain": [
       "<matplotlib.axes._subplots.AxesSubplot at 0x1e4611be438>"
      ]
     },
     "execution_count": 21,
     "metadata": {},
     "output_type": "execute_result"
    },
    {
     "data": {
      "image/png": "[encoded data removed]",
      "text/plain": [
       "<Figure size 720x432 with 2 Axes>"
      ]
     },
     "metadata": {
      "needs_background": "light"
     },
     "output_type": "display_data"
    }
   ],
   "source": [
    "cp = data[['time_in_hospital', 'num_lab_procedures','num_procedures', 'num_medications', 'number_outpatient',\n",
    "       'number_emergency', 'number_inpatient', 'number_diagnoses']].corr()\n",
    "plt.figure(figsize=(10,6))\n",
    "sns.heatmap(cp, annot=True, cmap = 'viridis')"
   ]
  },
  {
   "cell_type": "markdown",
   "metadata": {},
   "source": [
    "### Key Observations:\n",
    "* These features are in no way correlated to each other and hence can be included in train data"
   ]
  },
  {
   "cell_type": "markdown",
   "metadata": {},
   "source": [
    "### Bar Plots"
   ]
  },
  {
   "cell_type": "code",
   "execution_count": 22,
   "metadata": {},
   "outputs": [
    {
     "data": {
      "text/plain": [
       "Text(0, 0.5, 'count')"
      ]
     },
     "execution_count": 22,
     "metadata": {},
     "output_type": "execute_result"
    },
    {
     "data": {
      "image/png": "[encoded data removed]",
      "text/plain": [
       "<Figure size 432x288 with 1 Axes>"
      ]
     },
     "metadata": {
      "needs_background": "light"
     },
     "output_type": "display_data"
    }
   ],
   "source": [
    "pd.crosstab(data.age,data.readmitted).plot(kind='bar')\n",
    "plt.xlabel('Age')\n",
    "plt.ylabel('count')"
   ]
  },
  {
   "cell_type": "code",
   "execution_count": 23,
   "metadata": {},
   "outputs": [
    {
     "data": {
      "text/plain": [
       "Text(0, 0.5, 'count')"
      ]
     },
     "execution_count": 23,
     "metadata": {},
     "output_type": "execute_result"
    },
    {
     "data": {
      "image/png": "[encoded data removed]",
      "text/plain": [
       "<Figure size 432x288 with 1 Axes>"
      ]
     },
     "metadata": {
      "needs_background": "light"
     },
     "output_type": "display_data"
    }
   ],
   "source": [
    "pd.crosstab(data.diag_1,data.readmitted).plot(kind='bar')\n",
    "plt.xlabel('Fist diagnosis vs Re-admitted')\n",
    "plt.ylabel('count')"
   ]
  },
  {
   "cell_type": "code",
   "execution_count": 24,
   "metadata": {},
   "outputs": [
    {
     "data": {
      "text/plain": [
       "Text(0, 0.5, 'count')"
      ]
     },
     "execution_count": 24,
     "metadata": {},
     "output_type": "execute_result"
    },
    {
     "data": {
      "image/png": "[encoded data removed]",
      "text/plain": [
       "<Figure size 432x288 with 1 Axes>"
      ]
     },
     "metadata": {
      "needs_background": "light"
     },
     "output_type": "display_data"
    }
   ],
   "source": [
    "pd.crosstab(data.admission_type_id,data.readmitted).plot(kind='bar')\n",
    "plt.xlabel('Admission type vs Re-admitted')\n",
    "plt.ylabel('count')"
   ]
  },
  {
   "cell_type": "code",
   "execution_count": 25,
   "metadata": {},
   "outputs": [
    {
     "data": {
      "text/plain": [
       "Text(0, 0.5, 'count')"
      ]
     },
     "execution_count": 25,
     "metadata": {},
     "output_type": "execute_result"
    },
    {
     "data": {
      "image/png": "[encoded data removed]",
      "text/plain": [
       "<Figure size 432x288 with 1 Axes>"
      ]
     },
     "metadata": {
      "needs_background": "light"
     },
     "output_type": "display_data"
    }
   ],
   "source": [
    "pd.crosstab(data.discharge_disposition_id,data.readmitted).plot(kind='bar')\n",
    "plt.xlabel('Discharge disposition vs Re-admitted')\n",
    "plt.ylabel('count')"
   ]
  },
  {
   "cell_type": "code",
   "execution_count": 26,
   "metadata": {},
   "outputs": [
    {
     "data": {
      "text/plain": [
       "Text(0, 0.5, 'count')"
      ]
     },
     "execution_count": 26,
     "metadata": {},
     "output_type": "execute_result"
    },
    {
     "data": {
      "image/png": "[encoded data removed]",
      "text/plain": [
       "<Figure size 432x288 with 1 Axes>"
      ]
     },
     "metadata": {
      "needs_background": "light"
     },
     "output_type": "display_data"
    }
   ],
   "source": [
    "pd.crosstab(data.admission_source_id,data.readmitted).plot(kind='bar')\n",
    "plt.xlabel('Admission source vs Re-admitted')\n",
    "plt.ylabel('count')"
   ]
  },
  {
   "cell_type": "code",
   "execution_count": 27,
   "metadata": {},
   "outputs": [
    {
     "data": {
      "text/plain": [
       "Text(0, 0.5, 'count')"
      ]
     },
     "execution_count": 27,
     "metadata": {},
     "output_type": "execute_result"
    },
    {
     "data": {
      "image/png": "[encoded data removed]",
      "text/plain": [
       "<Figure size 432x288 with 1 Axes>"
      ]
     },
     "metadata": {
      "needs_background": "light"
     },
     "output_type": "display_data"
    }
   ],
   "source": [
    "pd.crosstab(data.glipizide,data.readmitted).plot(kind='bar')\n",
    "plt.xlabel('General Medicine vs Re-admitted')\n",
    "plt.ylabel('count')"
   ]
  },
  {
   "cell_type": "code",
   "execution_count": 28,
   "metadata": {},
   "outputs": [
    {
     "data": {
      "text/plain": [
       "Text(0, 0.5, 'count')"
      ]
     },
     "execution_count": 28,
     "metadata": {},
     "output_type": "execute_result"
    },
    {
     "data": {
      "image/png": "[encoded data removed]",
      "text/plain": [
       "<Figure size 432x288 with 1 Axes>"
      ]
     },
     "metadata": {
      "needs_background": "light"
     },
     "output_type": "display_data"
    }
   ],
   "source": [
    "pd.crosstab(data.race,data.readmitted).plot(kind='bar')\n",
    "plt.xlabel('Race vs Re-admitted')\n",
    "plt.ylabel('count')"
   ]
  },
  {
   "cell_type": "code",
   "execution_count": 29,
   "metadata": {},
   "outputs": [
    {
     "data": {
      "text/plain": [
       "Text(0, 0.5, 'count')"
      ]
     },
     "execution_count": 29,
     "metadata": {},
     "output_type": "execute_result"
    },
    {
     "data": {
      "image/png": "[encoded data removed]",
      "text/plain": [
       "<Figure size 432x288 with 1 Axes>"
      ]
     },
     "metadata": {
      "needs_background": "light"
     },
     "output_type": "display_data"
    }
   ],
   "source": [
    "pd.crosstab(data.gender,data.readmitted).plot(kind='bar')\n",
    "plt.xlabel('Gender vs Re-admitted')\n",
    "plt.ylabel('count')"
   ]
  },
  {
   "cell_type": "code",
   "execution_count": 30,
   "metadata": {},
   "outputs": [
    {
     "data": {
      "text/plain": [
       "Text(0, 0.5, 'count')"
      ]
     },
     "execution_count": 30,
     "metadata": {},
     "output_type": "execute_result"
    },
    {
     "data": {
      "image/png": "[encoded data removed]",
      "text/plain": [
       "<Figure size 432x288 with 1 Axes>"
      ]
     },
     "metadata": {
      "needs_background": "light"
     },
     "output_type": "display_data"
    }
   ],
   "source": [
    "pd.crosstab(data.diabetesMed,data.readmitted).plot(kind='bar')\n",
    "plt.xlabel('Diabitic medicine prescribed vs Re-admitted')\n",
    "plt.ylabel('count')"
   ]
  },
  {
   "cell_type": "markdown",
   "metadata": {},
   "source": [
    "### Key Observations:\n",
    "* Features like diag_1 have so many catagories but information not comunicated clearly and hence should be dropped \n",
    "* In Discharge type id and admission type id some catagories have no or very less data snd can be dropped or merged\n",
    "* Admission_type 1,2,3 have high re-admit that others\n",
    "* Caucasian and African American have higher re-admits\n",
    "* Ages above 40 have higher re-admits\n",
    "* Male and female have similar number of re-admits\n",
    "* No catagory (Drug not prescribed) in general medicine have higher admits\n",
    "* Re-admit rates are higher where diabetic medicine is prescribed"
   ]
  },
  {
   "cell_type": "markdown",
   "metadata": {},
   "source": [
    "## Data Cleaning"
   ]
  },
  {
   "cell_type": "code",
   "execution_count": 31,
   "metadata": {},
   "outputs": [],
   "source": [
    "# We can see that Weight, payer_code, medical_speciality have large number of missing values. So, dropping these columns\n",
    "data.drop(['weight','payer_code','medical_specialty'], inplace = True, axis = 1)\n",
    "# encounter_id and patient_nbr appears to be unique identifiers so, dropping those\n",
    "data.drop(['encounter_id','patient_nbr'], inplace = True, axis = 1)\n",
    "# Dropping columns not providing enough information\n",
    "data.drop(['diag_1','diag_2', 'diag_3'], inplace = True, axis = 1)\n",
    "# Replacing \"?\" with oth in race feature\n",
    "data['race']=data['race'].replace('?','oth')\n",
    "# Removing rows with unknown/invalid from gender\n",
    "fdata = data[data.gender != 'Unknown/Invalid']"
   ]
  },
  {
   "cell_type": "code",
   "execution_count": 32,
   "metadata": {},
   "outputs": [
    {
     "data": {
      "text/plain": [
       "(81412, 42)"
      ]
     },
     "execution_count": 32,
     "metadata": {},
     "output_type": "execute_result"
    }
   ],
   "source": [
    "fdata.shape"
   ]
  },
  {
   "cell_type": "markdown",
   "metadata": {},
   "source": [
    "### Hot code encoding for Machine Learning algorithm"
   ]
  },
  {
   "cell_type": "code",
   "execution_count": 33,
   "metadata": {},
   "outputs": [
    {
     "name": "stderr",
     "output_type": "stream",
     "text": [
      "c:\\users\\shashwat gupta\\appdata\\local\\programs\\python\\python36\\lib\\site-packages\\pandas\\core\\frame.py:3140: SettingWithCopyWarning: \n",
      "A value is trying to be set on a copy of a slice from a DataFrame.\n",
      "Try using .loc[row_indexer,col_indexer] = value instead\n",
      "\n",
      "See the caveats in the documentation: http://pandas.pydata.org/pandas-docs/stable/indexing.html#indexing-view-versus-copy\n",
      "  self[k1] = value[k2]\n",
      "c:\\users\\shashwat gupta\\appdata\\local\\programs\\python\\python36\\lib\\site-packages\\pandas\\core\\frame.py:3697: SettingWithCopyWarning: \n",
      "A value is trying to be set on a copy of a slice from a DataFrame\n",
      "\n",
      "See the caveats in the documentation: http://pandas.pydata.org/pandas-docs/stable/indexing.html#indexing-view-versus-copy\n",
      "  errors=errors)\n"
     ]
    }
   ],
   "source": [
    "for cols in ['race','gender','age','admission_type_id', 'discharge_disposition_id', 'admission_source_id',\n",
    "       'max_glu_serum', 'A1Cresult', 'metformin', 'repaglinide', 'nateglinide',\n",
    "       'chlorpropamide', 'glimepiride', 'acetohexamide', 'glipizide',\n",
    "       'glyburide', 'tolbutamide', 'pioglitazone', 'rosiglitazone', 'acarbose',\n",
    "       'miglitol', 'troglitazone', 'tolazamide', 'examide', 'citoglipton',\n",
    "       'insulin', 'glyburide-metformin', 'glipizide-metformin',\n",
    "       'glimepiride-pioglitazone', 'metformin-rosiglitazone',\n",
    "       'metformin-pioglitazone', 'change', 'diabetesMed']:\n",
    "    col = pd.get_dummies(fdata[cols], prefix = cols)\n",
    "    fdata[col.columns] = col\n",
    "    fdata.drop(cols, axis = 1, inplace=True)"
   ]
  },
  {
   "cell_type": "code",
   "execution_count": 34,
   "metadata": {},
   "outputs": [
    {
     "data": {
      "text/plain": [
       "(81412, 160)"
      ]
     },
     "execution_count": 34,
     "metadata": {},
     "output_type": "execute_result"
    }
   ],
   "source": [
    "fdata.shape"
   ]
  },
  {
   "cell_type": "code",
   "execution_count": 35,
   "metadata": {},
   "outputs": [],
   "source": [
    "X = fdata.drop(['readmitted'], axis = 1)"
   ]
  },
  {
   "cell_type": "code",
   "execution_count": 36,
   "metadata": {},
   "outputs": [],
   "source": [
    "y = fdata['readmitted'].map({'N':0,'Y':1})"
   ]
  },
  {
   "cell_type": "code",
   "execution_count": 37,
   "metadata": {},
   "outputs": [
    {
     "data": {
      "text/plain": [
       "(81412,)"
      ]
     },
     "execution_count": 37,
     "metadata": {},
     "output_type": "execute_result"
    }
   ],
   "source": [
    "y.shape"
   ]
  },
  {
   "cell_type": "markdown",
   "metadata": {},
   "source": [
    "### Mapping test_data.csv with train_data.csv to compute probabilities"
   ]
  },
  {
   "cell_type": "code",
   "execution_count": 38,
   "metadata": {},
   "outputs": [
    {
     "data": {
      "text/html": [
       "<div>\n",
       "<style scoped>\n",
       "    .dataframe tbody tr th:only-of-type {\n",
       "        vertical-align: middle;\n",
       "    }\n",
       "\n",
       "    .dataframe tbody tr th {\n",
       "        vertical-align: top;\n",
       "    }\n",
       "\n",
       "    .dataframe thead th {\n",
       "        text-align: right;\n",
       "    }\n",
       "</style>\n",
       "<table border=\"1\" class=\"dataframe\">\n",
       "  <thead>\n",
       "    <tr style=\"text-align: right;\">\n",
       "      <th></th>\n",
       "      <th>encounter_id</th>\n",
       "      <th>patient_nbr</th>\n",
       "      <th>race</th>\n",
       "      <th>gender</th>\n",
       "      <th>age</th>\n",
       "      <th>weight</th>\n",
       "      <th>admission_type_id</th>\n",
       "      <th>discharge_disposition_id</th>\n",
       "      <th>admission_source_id</th>\n",
       "      <th>time_in_hospital</th>\n",
       "      <th>...</th>\n",
       "      <th>examide</th>\n",
       "      <th>citoglipton</th>\n",
       "      <th>insulin</th>\n",
       "      <th>glyburide-metformin</th>\n",
       "      <th>glipizide-metformin</th>\n",
       "      <th>glimepiride-pioglitazone</th>\n",
       "      <th>metformin-rosiglitazone</th>\n",
       "      <th>metformin-pioglitazone</th>\n",
       "      <th>change</th>\n",
       "      <th>diabetesMed</th>\n",
       "    </tr>\n",
       "  </thead>\n",
       "  <tbody>\n",
       "    <tr>\n",
       "      <th>0</th>\n",
       "      <td>15738</td>\n",
       "      <td>63555939</td>\n",
       "      <td>Caucasian</td>\n",
       "      <td>Female</td>\n",
       "      <td>[90-100)</td>\n",
       "      <td>?</td>\n",
       "      <td>3</td>\n",
       "      <td>3</td>\n",
       "      <td>4</td>\n",
       "      <td>12</td>\n",
       "      <td>...</td>\n",
       "      <td>No</td>\n",
       "      <td>No</td>\n",
       "      <td>Steady</td>\n",
       "      <td>No</td>\n",
       "      <td>No</td>\n",
       "      <td>No</td>\n",
       "      <td>No</td>\n",
       "      <td>No</td>\n",
       "      <td>Ch</td>\n",
       "      <td>Yes</td>\n",
       "    </tr>\n",
       "    <tr>\n",
       "      <th>1</th>\n",
       "      <td>62256</td>\n",
       "      <td>49726791</td>\n",
       "      <td>AfricanAmerican</td>\n",
       "      <td>Female</td>\n",
       "      <td>[60-70)</td>\n",
       "      <td>?</td>\n",
       "      <td>3</td>\n",
       "      <td>1</td>\n",
       "      <td>2</td>\n",
       "      <td>1</td>\n",
       "      <td>...</td>\n",
       "      <td>No</td>\n",
       "      <td>No</td>\n",
       "      <td>Steady</td>\n",
       "      <td>No</td>\n",
       "      <td>No</td>\n",
       "      <td>No</td>\n",
       "      <td>No</td>\n",
       "      <td>No</td>\n",
       "      <td>No</td>\n",
       "      <td>Yes</td>\n",
       "    </tr>\n",
       "    <tr>\n",
       "      <th>2</th>\n",
       "      <td>150006</td>\n",
       "      <td>22864131</td>\n",
       "      <td>?</td>\n",
       "      <td>Female</td>\n",
       "      <td>[50-60)</td>\n",
       "      <td>?</td>\n",
       "      <td>2</td>\n",
       "      <td>1</td>\n",
       "      <td>4</td>\n",
       "      <td>2</td>\n",
       "      <td>...</td>\n",
       "      <td>No</td>\n",
       "      <td>No</td>\n",
       "      <td>Down</td>\n",
       "      <td>No</td>\n",
       "      <td>No</td>\n",
       "      <td>No</td>\n",
       "      <td>No</td>\n",
       "      <td>No</td>\n",
       "      <td>Ch</td>\n",
       "      <td>Yes</td>\n",
       "    </tr>\n",
       "    <tr>\n",
       "      <th>3</th>\n",
       "      <td>183930</td>\n",
       "      <td>107400762</td>\n",
       "      <td>Caucasian</td>\n",
       "      <td>Female</td>\n",
       "      <td>[80-90)</td>\n",
       "      <td>?</td>\n",
       "      <td>2</td>\n",
       "      <td>6</td>\n",
       "      <td>1</td>\n",
       "      <td>11</td>\n",
       "      <td>...</td>\n",
       "      <td>No</td>\n",
       "      <td>No</td>\n",
       "      <td>No</td>\n",
       "      <td>No</td>\n",
       "      <td>No</td>\n",
       "      <td>No</td>\n",
       "      <td>No</td>\n",
       "      <td>No</td>\n",
       "      <td>No</td>\n",
       "      <td>No</td>\n",
       "    </tr>\n",
       "    <tr>\n",
       "      <th>4</th>\n",
       "      <td>248916</td>\n",
       "      <td>115196778</td>\n",
       "      <td>Caucasian</td>\n",
       "      <td>Female</td>\n",
       "      <td>[50-60)</td>\n",
       "      <td>?</td>\n",
       "      <td>1</td>\n",
       "      <td>1</td>\n",
       "      <td>1</td>\n",
       "      <td>2</td>\n",
       "      <td>...</td>\n",
       "      <td>No</td>\n",
       "      <td>No</td>\n",
       "      <td>Steady</td>\n",
       "      <td>No</td>\n",
       "      <td>No</td>\n",
       "      <td>No</td>\n",
       "      <td>No</td>\n",
       "      <td>No</td>\n",
       "      <td>No</td>\n",
       "      <td>Yes</td>\n",
       "    </tr>\n",
       "  </tbody>\n",
       "</table>\n",
       "<p>5 rows × 49 columns</p>\n",
       "</div>"
      ],
      "text/plain": [
       "   encounter_id  patient_nbr             race  gender       age weight  \\\n",
       "0         15738     63555939        Caucasian  Female  [90-100)      ?   \n",
       "1         62256     49726791  AfricanAmerican  Female   [60-70)      ?   \n",
       "2        150006     22864131                ?  Female   [50-60)      ?   \n",
       "3        183930    107400762        Caucasian  Female   [80-90)      ?   \n",
       "4        248916    115196778        Caucasian  Female   [50-60)      ?   \n",
       "\n",
       "   admission_type_id  discharge_disposition_id  admission_source_id  \\\n",
       "0                  3                         3                    4   \n",
       "1                  3                         1                    2   \n",
       "2                  2                         1                    4   \n",
       "3                  2                         6                    1   \n",
       "4                  1                         1                    1   \n",
       "\n",
       "   time_in_hospital     ...     examide citoglipton  insulin  \\\n",
       "0                12     ...          No          No   Steady   \n",
       "1                 1     ...          No          No   Steady   \n",
       "2                 2     ...          No          No     Down   \n",
       "3                11     ...          No          No       No   \n",
       "4                 2     ...          No          No   Steady   \n",
       "\n",
       "   glyburide-metformin  glipizide-metformin  glimepiride-pioglitazone  \\\n",
       "0                   No                   No                        No   \n",
       "1                   No                   No                        No   \n",
       "2                   No                   No                        No   \n",
       "3                   No                   No                        No   \n",
       "4                   No                   No                        No   \n",
       "\n",
       "   metformin-rosiglitazone  metformin-pioglitazone change diabetesMed  \n",
       "0                       No                      No     Ch         Yes  \n",
       "1                       No                      No     No         Yes  \n",
       "2                       No                      No     Ch         Yes  \n",
       "3                       No                      No     No          No  \n",
       "4                       No                      No     No         Yes  \n",
       "\n",
       "[5 rows x 49 columns]"
      ]
     },
     "execution_count": 38,
     "metadata": {},
     "output_type": "execute_result"
    }
   ],
   "source": [
    "final_test.head()"
   ]
  },
  {
   "cell_type": "code",
   "execution_count": 39,
   "metadata": {},
   "outputs": [
    {
     "name": "stderr",
     "output_type": "stream",
     "text": [
      "c:\\users\\shashwat gupta\\appdata\\local\\programs\\python\\python36\\lib\\site-packages\\ipykernel_launcher.py:10: UserWarning: Boolean Series key will be reindexed to match DataFrame index.\n",
      "  # Remove the CWD from sys.path while we load stuff.\n"
     ]
    }
   ],
   "source": [
    "# We can see that Weight, payer_code, medical_speciality have large number of missing values. So, dropping these columns\n",
    "final_test.drop(['weight','payer_code','medical_specialty'], inplace = True, axis = 1)\n",
    "# encounter_id and patient_nbr appears to be unique identifiers so, dropping those\n",
    "final_test.drop(['patient_nbr'], inplace = True, axis = 1)\n",
    "# Dropping columns not providing enough information\n",
    "final_test.drop(['diag_1','diag_2', 'diag_3'], inplace = True, axis = 1)\n",
    "# Replacing \"?\" with oth in race feature\n",
    "final_test['race']=final_test['race'].replace('?','oth')\n",
    "# Removing rows with unknown/invalid from gender\n",
    "ftest = final_test[data.gender != 'Unknown/Invalid']"
   ]
  },
  {
   "cell_type": "code",
   "execution_count": 40,
   "metadata": {},
   "outputs": [
    {
     "data": {
      "text/plain": [
       "(20352, 42)"
      ]
     },
     "execution_count": 40,
     "metadata": {},
     "output_type": "execute_result"
    }
   ],
   "source": [
    "ftest.shape"
   ]
  },
  {
   "cell_type": "code",
   "execution_count": 41,
   "metadata": {},
   "outputs": [],
   "source": [
    "import openpyxl\n",
    "\n",
    "wb = openpyxl.Workbook()\n",
    "\n",
    "sheet = wb.active\n",
    "\n",
    "p = 0\n",
    "\n",
    "for i in final_test['encounter_id']:\n",
    "     k = 0\n",
    "     for j in [i]:\n",
    "          c1 = sheet.cell(row=p+1,column=k+1)\n",
    "          c1.value = str(j)\n",
    "          k+=1\n",
    "     p+=1\n",
    "\n",
    "wb.save(\"encounteridf.xlsx\")"
   ]
  },
  {
   "cell_type": "code",
   "execution_count": 42,
   "metadata": {},
   "outputs": [],
   "source": [
    "ftest.drop(['encounter_id'], inplace = True, axis = 1)"
   ]
  },
  {
   "cell_type": "code",
   "execution_count": 43,
   "metadata": {},
   "outputs": [],
   "source": [
    "for cols in ['race','gender','age','admission_type_id', 'discharge_disposition_id', 'admission_source_id',\n",
    "       'max_glu_serum', 'A1Cresult', 'metformin', 'repaglinide', 'nateglinide',\n",
    "       'chlorpropamide', 'glimepiride', 'acetohexamide', 'glipizide',\n",
    "       'glyburide', 'tolbutamide', 'pioglitazone', 'rosiglitazone', 'acarbose',\n",
    "       'miglitol', 'troglitazone', 'tolazamide', 'examide', 'citoglipton',\n",
    "       'insulin', 'glyburide-metformin', 'glipizide-metformin',\n",
    "       'glimepiride-pioglitazone', 'metformin-rosiglitazone',\n",
    "       'metformin-pioglitazone', 'change', 'diabetesMed']:\n",
    "    col = pd.get_dummies(ftest[cols], prefix = cols)\n",
    "    ftest[col.columns] = col\n",
    "    ftest.drop(cols, axis = 1, inplace=True)"
   ]
  },
  {
   "cell_type": "code",
   "execution_count": 44,
   "metadata": {},
   "outputs": [
    {
     "data": {
      "text/plain": [
       "(20352, 147)"
      ]
     },
     "execution_count": 44,
     "metadata": {},
     "output_type": "execute_result"
    }
   ],
   "source": [
    "ftest.shape"
   ]
  },
  {
   "cell_type": "code",
   "execution_count": 45,
   "metadata": {},
   "outputs": [],
   "source": [
    "com_col = X.columns.intersection(ftest.columns)"
   ]
  },
  {
   "cell_type": "code",
   "execution_count": 46,
   "metadata": {},
   "outputs": [],
   "source": [
    "ftest = ftest[com_col]"
   ]
  },
  {
   "cell_type": "code",
   "execution_count": 47,
   "metadata": {},
   "outputs": [
    {
     "data": {
      "text/plain": [
       "(20352, 145)"
      ]
     },
     "execution_count": 47,
     "metadata": {},
     "output_type": "execute_result"
    }
   ],
   "source": [
    "ftest.shape"
   ]
  },
  {
   "cell_type": "code",
   "execution_count": 48,
   "metadata": {},
   "outputs": [],
   "source": [
    "X = X[com_col]"
   ]
  },
  {
   "cell_type": "code",
   "execution_count": 49,
   "metadata": {},
   "outputs": [
    {
     "data": {
      "text/plain": [
       "(81412, 145)"
      ]
     },
     "execution_count": 49,
     "metadata": {},
     "output_type": "execute_result"
    }
   ],
   "source": [
    "X.shape"
   ]
  },
  {
   "cell_type": "markdown",
   "metadata": {},
   "source": [
    "### Important features according to decision tree classifier"
   ]
  },
  {
   "cell_type": "code",
   "execution_count": 50,
   "metadata": {},
   "outputs": [
    {
     "name": "stderr",
     "output_type": "stream",
     "text": [
      "c:\\users\\shashwat gupta\\appdata\\local\\programs\\python\\python36\\lib\\site-packages\\sklearn\\ensemble\\forest.py:245: FutureWarning: The default value of n_estimators will change from 10 in version 0.20 to 100 in 0.22.\n",
      "  \"10 in version 0.20 to 100 in 0.22.\", FutureWarning)\n"
     ]
    },
    {
     "name": "stdout",
     "output_type": "stream",
     "text": [
      "[8.70859570e-02 1.06107015e-01 6.30223684e-02 1.00949754e-01\n",
      " 3.58984922e-02 2.91067984e-02 6.58602577e-02 6.00537619e-02\n",
      " 1.26790332e-02 1.60200947e-03 1.38181384e-02 3.72412170e-03\n",
      " 2.63934031e-03 3.25185692e-03 1.69100476e-02 1.74900031e-02\n",
      " 1.05410718e-04 9.00272407e-04 3.18901075e-03 5.52828384e-03\n",
      " 9.80020006e-03 1.20492333e-02 1.74225029e-02 1.75457216e-02\n",
      " 1.37094472e-02 4.68261385e-03 1.16967674e-02 1.25725108e-02\n",
      " 9.24382487e-03 7.42758414e-05 3.77979109e-03 4.59059291e-03\n",
      " 2.21083734e-05 8.80116599e-04 7.81279858e-03 2.86069817e-03\n",
      " 6.25796836e-03 1.87454775e-03 2.82042018e-03 6.78347359e-03\n",
      " 1.32524392e-03 4.74895905e-04 2.95936755e-04 8.45502331e-06\n",
      " 2.38289788e-03 7.48158166e-04 6.81404215e-04 1.20599792e-03\n",
      " 9.42081497e-06 3.30966598e-03 3.11341901e-06 2.30915784e-06\n",
      " 6.26947264e-03 8.93019653e-04 2.82572430e-04 1.15962147e-03\n",
      " 9.38590558e-09 1.66240280e-03 1.07987210e-02 2.09381524e-03\n",
      " 8.05039573e-04 4.04436518e-03 1.67224739e-03 2.92131044e-03\n",
      " 1.14938328e-02 1.55852643e-04 4.63694708e-04 1.89865414e-07\n",
      " 3.52139971e-03 6.02102117e-04 6.27552137e-05 2.06562101e-03\n",
      " 1.99393855e-03 3.20266505e-03 2.61956999e-03 5.56692172e-03\n",
      " 7.32170308e-03 9.80533959e-03 5.29629449e-03 1.13331741e-03\n",
      " 5.09856600e-03 4.84990006e-03 1.18172589e-03 1.57279072e-04\n",
      " 2.27788369e-03 2.12657765e-03 6.67519474e-04 3.56888200e-05\n",
      " 1.34160800e-03 1.18618015e-03 3.87603223e-05 1.56645558e-04\n",
      " 1.84708108e-04 5.59698368e-04 4.18832394e-03 4.02440153e-03\n",
      " 9.03451363e-04 6.31061037e-07 1.87237135e-03 7.08323181e-03\n",
      " 6.69573815e-03 1.73736195e-03 1.09682823e-03 6.40719381e-03\n",
      " 5.93078743e-03 1.73082225e-03 1.54246611e-05 7.53404540e-05\n",
      " 6.87978304e-04 5.46355937e-03 5.40527598e-03 7.55896451e-04\n",
      " 1.92663405e-04 4.78856421e-03 4.81249601e-03 6.11420523e-04\n",
      " 5.96219488e-04 5.73113767e-04 1.52104191e-04 5.90260343e-05\n",
      " 1.41419601e-04 4.65834506e-05 0.00000000e+00 6.81455875e-06\n",
      " 6.64350436e-06 9.64904162e-05 4.22169354e-05 0.00000000e+00\n",
      " 0.00000000e+00 4.37919259e-03 5.92297611e-03 7.10376023e-03\n",
      " 5.58497332e-03 2.78472228e-06 1.11163964e-03 1.15475524e-03\n",
      " 6.17250262e-06 7.43386772e-07 6.85628356e-07 6.19505341e-06\n",
      " 0.00000000e+00 4.47944942e-03 4.79971076e-03 2.40461424e-03\n",
      " 2.22237086e-03]\n"
     ]
    },
    {
     "data": {
      "image/png": "[encoded data removed]",
      "text/plain": [
       "<Figure size 432x288 with 1 Axes>"
      ]
     },
     "metadata": {
      "needs_background": "light"
     },
     "output_type": "display_data"
    }
   ],
   "source": [
    "model = ExtraTreesClassifier()\n",
    "model.fit(X,y)\n",
    "print(model.feature_importances_) \n",
    "feat_importances = pd.Series(model.feature_importances_, index=X.columns)\n",
    "feat_importances.nlargest(20).plot(kind='barh')\n",
    "plt.show()"
   ]
  },
  {
   "cell_type": "markdown",
   "metadata": {},
   "source": [
    "### Key Observations:¶\n",
    "* Features and catagories of features giving higher re-admit data seems to be most important features"
   ]
  },
  {
   "cell_type": "markdown",
   "metadata": {},
   "source": [
    "### Splitting and Scaling the data"
   ]
  },
  {
   "cell_type": "code",
   "execution_count": 51,
   "metadata": {},
   "outputs": [],
   "source": [
    "# By default split will be 75% train and 25% test\n",
    "X_train, X_test, y_train, y_test = train_test_split(X,y, random_state = 0)\n",
    "scaler = MinMaxScaler()\n",
    "X_train = scaler.fit_transform(X_train)\n",
    "X_test = scaler.fit_transform(X_test)"
   ]
  },
  {
   "cell_type": "markdown",
   "metadata": {},
   "source": [
    "### Machine Learning and Deep Learning Models¶\n",
    "#### Logistic Regression"
   ]
  },
  {
   "cell_type": "code",
   "execution_count": 52,
   "metadata": {},
   "outputs": [
    {
     "name": "stderr",
     "output_type": "stream",
     "text": [
      "c:\\users\\shashwat gupta\\appdata\\local\\programs\\python\\python36\\lib\\site-packages\\sklearn\\linear_model\\logistic.py:432: FutureWarning: Default solver will be changed to 'lbfgs' in 0.22. Specify a solver to silence this warning.\n",
      "  FutureWarning)\n"
     ]
    },
    {
     "name": "stdout",
     "output_type": "stream",
     "text": [
      "Accuracy on training set: 0.888\n",
      "Accuracy on test set: 0.885\n"
     ]
    }
   ],
   "source": [
    "log_l1 = LogisticRegression(penalty = 'l1')\n",
    "log_l1.fit(X_train, y_train)\n",
    "\n",
    "print(\"Accuracy on training set: {:.3f}\".format(log_l1.score(X_train, y_train)))\n",
    "print(\"Accuracy on test set: {:.3f}\".format(log_l1.score(X_test, y_test)))"
   ]
  },
  {
   "cell_type": "markdown",
   "metadata": {},
   "source": [
    "### Gradient Boosting"
   ]
  },
  {
   "cell_type": "code",
   "execution_count": 53,
   "metadata": {},
   "outputs": [
    {
     "name": "stdout",
     "output_type": "stream",
     "text": [
      "Accuracy on training set: 0.888\n",
      "Accuracy on test set: 0.888\n"
     ]
    }
   ],
   "source": [
    "from sklearn.ensemble import GradientBoostingClassifier\n",
    "\n",
    "gbrt = GradientBoostingClassifier(random_state=0, max_depth=1, learning_rate=0.1)\n",
    "gbrt.fit(X_train, y_train)\n",
    "\n",
    "print(\"Accuracy on training set: {:.3f}\".format(gbrt.score(X_train, y_train)))\n",
    "print(\"Accuracy on test set: {:.3f}\".format(gbrt.score(X_test, y_test)))"
   ]
  },
  {
   "cell_type": "markdown",
   "metadata": {},
   "source": [
    "### Neural Networks"
   ]
  },
  {
   "cell_type": "code",
   "execution_count": 54,
   "metadata": {},
   "outputs": [
    {
     "name": "stderr",
     "output_type": "stream",
     "text": [
      "WARNING: Logging before flag parsing goes to stderr.\n",
      "W0909 18:39:24.716524  4604 deprecation.py:506] From c:\\users\\shashwat gupta\\appdata\\local\\programs\\python\\python36\\lib\\site-packages\\tensorflow\\python\\ops\\init_ops.py:1251: calling VarianceScaling.__init__ (from tensorflow.python.ops.init_ops) with dtype is deprecated and will be removed in a future version.\n",
      "Instructions for updating:\n",
      "Call initializer instance with the dtype argument instead of passing it to the constructor\n",
      "W0909 18:39:24.809243  4604 deprecation.py:323] From c:\\users\\shashwat gupta\\appdata\\local\\programs\\python\\python36\\lib\\site-packages\\tensorflow\\python\\ops\\nn_impl.py:180: add_dispatch_support.<locals>.wrapper (from tensorflow.python.ops.array_ops) is deprecated and will be removed in a future version.\n",
      "Instructions for updating:\n",
      "Use tf.where in 2.0, which has the same broadcast rule as np.where\n"
     ]
    },
    {
     "name": "stdout",
     "output_type": "stream",
     "text": [
      "Epoch 1/20\n",
      "61059/61059 [==============================] - 1s 13us/sample - loss: 0.3639 - acc: 0.8764\n",
      "Epoch 2/20\n",
      "61059/61059 [==============================] - 1s 11us/sample - loss: 0.3373 - acc: 0.8885\n",
      "Epoch 3/20\n",
      "61059/61059 [==============================] - 1s 11us/sample - loss: 0.3326 - acc: 0.8886\n",
      "Epoch 4/20\n",
      "61059/61059 [==============================] - 1s 11us/sample - loss: 0.3311 - acc: 0.8886\n",
      "Epoch 5/20\n",
      "61059/61059 [==============================] - 1s 11us/sample - loss: 0.3303 - acc: 0.8887\n",
      "Epoch 6/20\n",
      "61059/61059 [==============================] - 1s 11us/sample - loss: 0.3290 - acc: 0.8887\n",
      "Epoch 7/20\n",
      "61059/61059 [==============================] - 1s 11us/sample - loss: 0.3286 - acc: 0.8888\n",
      "Epoch 8/20\n",
      "61059/61059 [==============================] - 1s 11us/sample - loss: 0.3280 - acc: 0.8888\n",
      "Epoch 9/20\n",
      "61059/61059 [==============================] - 1s 11us/sample - loss: 0.3274 - acc: 0.8888\n",
      "Epoch 10/20\n",
      "61059/61059 [==============================] - 1s 11us/sample - loss: 0.3266 - acc: 0.8889\n",
      "Epoch 11/20\n",
      "61059/61059 [==============================] - 1s 11us/sample - loss: 0.3262 - acc: 0.8890\n",
      "Epoch 12/20\n",
      "61059/61059 [==============================] - 1s 11us/sample - loss: 0.3257 - acc: 0.8889\n",
      "Epoch 13/20\n",
      "61059/61059 [==============================] - 1s 11us/sample - loss: 0.3251 - acc: 0.8893\n",
      "Epoch 14/20\n",
      "61059/61059 [==============================] - 1s 12us/sample - loss: 0.3245 - acc: 0.8893\n",
      "Epoch 15/20\n",
      "61059/61059 [==============================] - 1s 11us/sample - loss: 0.3240 - acc: 0.8895\n",
      "Epoch 16/20\n",
      "61059/61059 [==============================] - 1s 11us/sample - loss: 0.3230 - acc: 0.8893\n",
      "Epoch 17/20\n",
      "61059/61059 [==============================] - 1s 11us/sample - loss: 0.3229 - acc: 0.8900\n",
      "Epoch 18/20\n",
      "61059/61059 [==============================] - 1s 11us/sample - loss: 0.3223 - acc: 0.8899\n",
      "Epoch 19/20\n",
      "61059/61059 [==============================] - 1s 11us/sample - loss: 0.3221 - acc: 0.8900\n",
      "Epoch 20/20\n",
      "61059/61059 [==============================] - 1s 11us/sample - loss: 0.3217 - acc: 0.8902\n"
     ]
    },
    {
     "data": {
      "text/plain": [
       "<tensorflow.python.keras.callbacks.History at 0x1e46b2b6dd8>"
      ]
     },
     "execution_count": 54,
     "metadata": {},
     "output_type": "execute_result"
    }
   ],
   "source": [
    "model1 = Sequential()\n",
    "#input leyer\n",
    "model1.add(Dense(20, input_dim = 145, activation = 'relu'))\n",
    "#hidden layer\n",
    "model1.add(Dense(15, activation = 'relu'))\n",
    "model1.add(Dense(10, activation = 'relu'))\n",
    "model1.add(Dense(5, activation = 'relu'))\n",
    "#output layer\n",
    "model1.add(Dense(1, activation = 'sigmoid'))\n",
    "\n",
    "# step 2: build the computational graph - compile\n",
    "model1.compile(loss = 'binary_crossentropy', optimizer = 'adam' , metrics = ['accuracy'])\n",
    "\n",
    "# step 3: train the model\n",
    "model1.fit(X_train, y_train, epochs = 20, batch_size = 100)"
   ]
  },
  {
   "cell_type": "code",
   "execution_count": 55,
   "metadata": {},
   "outputs": [
    {
     "name": "stdout",
     "output_type": "stream",
     "text": [
      "61059/61059 [==============================] - 1s 13us/sample - loss: 0.3197 - acc: 0.8906\n",
      "Train Accuracy of Deep Neural Network: [0.31967540673623474, 0.89059764]\n",
      "20353/20353 [==============================] - 0s 13us/sample - loss: 0.3540 - acc: 0.8776\n",
      "Train Accuracy of Deep Neural Network: [0.3540409480782157, 0.87756103]\n"
     ]
    }
   ],
   "source": [
    "print(\"Train Accuracy of Deep Neural Network:\",model1.evaluate(X_train, y_train))\n",
    "print(\"Train Accuracy of Deep Neural Network:\",model1.evaluate(X_test, y_test))"
   ]
  },
  {
   "cell_type": "markdown",
   "metadata": {},
   "source": [
    "### Key Observation:\n",
    "* All Models have same accuracy for Train 88.8 % and test 88.8 %\n",
    "* We can use any model for quality and predictive performance"
   ]
  },
  {
   "cell_type": "markdown",
   "metadata": {},
   "source": [
    "### Quality and predictive performance"
   ]
  },
  {
   "cell_type": "code",
   "execution_count": 57,
   "metadata": {},
   "outputs": [],
   "source": [
    "y_pred_grad = gbrt.predict(X_test)\n",
    "y_pred_log = log_l1.predict(X_test)"
   ]
  },
  {
   "cell_type": "code",
   "execution_count": 58,
   "metadata": {},
   "outputs": [
    {
     "data": {
      "text/plain": [
       "array([[17936,   137],\n",
       "       [ 2200,    80]], dtype=int64)"
      ]
     },
     "execution_count": 58,
     "metadata": {},
     "output_type": "execute_result"
    }
   ],
   "source": [
    "confusion_matrix(y_test, y_pred_log)"
   ]
  },
  {
   "cell_type": "code",
   "execution_count": 59,
   "metadata": {},
   "outputs": [
    {
     "data": {
      "text/plain": [
       "0.03508771929824561"
      ]
     },
     "execution_count": 59,
     "metadata": {},
     "output_type": "execute_result"
    }
   ],
   "source": [
    "recall_score(y_test, y_pred_log)"
   ]
  },
  {
   "cell_type": "code",
   "execution_count": 60,
   "metadata": {},
   "outputs": [
    {
     "data": {
      "text/plain": [
       "array([[18066,     7],\n",
       "       [ 2272,     8]], dtype=int64)"
      ]
     },
     "execution_count": 60,
     "metadata": {},
     "output_type": "execute_result"
    }
   ],
   "source": [
    "confusion_matrix(y_test, y_pred_grad)"
   ]
  },
  {
   "cell_type": "code",
   "execution_count": 61,
   "metadata": {},
   "outputs": [
    {
     "data": {
      "text/plain": [
       "0.0035087719298245615"
      ]
     },
     "execution_count": 61,
     "metadata": {},
     "output_type": "execute_result"
    }
   ],
   "source": [
    "recall_score(y_test, y_pred_grad)"
   ]
  },
  {
   "cell_type": "markdown",
   "metadata": {},
   "source": [
    "### Key Observation:¶\n",
    "* Although overall training and test accuracy is good, but we want recall accuracy as we are concerned that if class is actually re-admitted, how often our model predicts it re-admitted. Due to class imbalance, our acuracy of prediction is very low and we have to work on our data to improve our recall predictions.\n",
    "* We need to look into methods like over sampling of minority class, under sampling of majority class and SMOTE techniques"
   ]
  },
  {
   "cell_type": "markdown",
   "metadata": {},
   "source": [
    "## SMOTE"
   ]
  },
  {
   "cell_type": "code",
   "execution_count": 62,
   "metadata": {},
   "outputs": [
    {
     "name": "stderr",
     "output_type": "stream",
     "text": [
      "Using TensorFlow backend.\n"
     ]
    }
   ],
   "source": [
    "from imblearn.over_sampling import SMOTE"
   ]
  },
  {
   "cell_type": "code",
   "execution_count": 63,
   "metadata": {},
   "outputs": [],
   "source": [
    "sm = SMOTE(ratio='minority', random_state=42)"
   ]
  },
  {
   "cell_type": "code",
   "execution_count": 64,
   "metadata": {},
   "outputs": [],
   "source": [
    "Xsm_train, ysm_train = sm.fit_sample(X_train, y_train)"
   ]
  },
  {
   "cell_type": "code",
   "execution_count": 65,
   "metadata": {},
   "outputs": [
    {
     "name": "stderr",
     "output_type": "stream",
     "text": [
      "c:\\users\\shashwat gupta\\appdata\\local\\programs\\python\\python36\\lib\\site-packages\\sklearn\\linear_model\\logistic.py:432: FutureWarning: Default solver will be changed to 'lbfgs' in 0.22. Specify a solver to silence this warning.\n",
      "  FutureWarning)\n"
     ]
    },
    {
     "name": "stdout",
     "output_type": "stream",
     "text": [
      "Accuracy on training set: 0.551\n",
      "Accuracy on test set: 0.506\n"
     ]
    }
   ],
   "source": [
    "log_l1_smote = LogisticRegression(penalty = 'l1', C = 0.001)\n",
    "log_l1_smote.fit(Xsm_train, ysm_train)\n",
    "\n",
    "print(\"Accuracy on training set: {:.3f}\".format(log_l1_smote.score(Xsm_train, ysm_train)))\n",
    "print(\"Accuracy on test set: {:.3f}\".format(log_l1_smote.score(X_test, y_test)))"
   ]
  },
  {
   "cell_type": "code",
   "execution_count": 66,
   "metadata": {},
   "outputs": [],
   "source": [
    "y_pred_log_smote = log_l1_smote.predict(X_test)"
   ]
  },
  {
   "cell_type": "code",
   "execution_count": 67,
   "metadata": {},
   "outputs": [
    {
     "data": {
      "text/plain": [
       "array([[8913, 9160],\n",
       "       [ 897, 1383]], dtype=int64)"
      ]
     },
     "execution_count": 67,
     "metadata": {},
     "output_type": "execute_result"
    }
   ],
   "source": [
    "confusion_matrix(y_test, y_pred_log_smote)"
   ]
  },
  {
   "cell_type": "code",
   "execution_count": 68,
   "metadata": {},
   "outputs": [
    {
     "data": {
      "text/plain": [
       "0.6065789473684211"
      ]
     },
     "execution_count": 68,
     "metadata": {},
     "output_type": "execute_result"
    }
   ],
   "source": [
    "recall_score(y_test, y_pred_log_smote)"
   ]
  },
  {
   "cell_type": "code",
   "execution_count": 69,
   "metadata": {},
   "outputs": [
    {
     "data": {
      "text/plain": [
       "0.2157061530063168"
      ]
     },
     "execution_count": 69,
     "metadata": {},
     "output_type": "execute_result"
    }
   ],
   "source": [
    "from sklearn.metrics import f1_score\n",
    "\n",
    "f1_score(y_test, y_pred_log_smote)"
   ]
  },
  {
   "cell_type": "markdown",
   "metadata": {},
   "source": [
    "### Key Observation:\n",
    "* We improved upon the recall score but in the process we generated lots of false positives and that will hurt the business as hospitals will need to check all false positives for their re-admission\n",
    "* The Good thing is false negatives are reduced and true positives have improved so hospitals could be more sure of overall re-admits"
   ]
  },
  {
   "cell_type": "markdown",
   "metadata": {},
   "source": [
    "### Caveats\n",
    "### Key Points:\n",
    "* We cannot remove the regularization from the model, removing regularization might improve recall score but will overfit the model"
   ]
  },
  {
   "cell_type": "markdown",
   "metadata": {},
   "source": [
    "### Predicting Probabilities of challengetest_data.csv and writing on excel"
   ]
  },
  {
   "cell_type": "code",
   "execution_count": 72,
   "metadata": {},
   "outputs": [
    {
     "data": {
      "text/plain": [
       "(20352, 145)"
      ]
     },
     "execution_count": 72,
     "metadata": {},
     "output_type": "execute_result"
    }
   ],
   "source": [
    "ftest.shape"
   ]
  },
  {
   "cell_type": "code",
   "execution_count": 73,
   "metadata": {},
   "outputs": [],
   "source": [
    "pred = log_l1_smote.predict_proba(ftest)"
   ]
  },
  {
   "cell_type": "code",
   "execution_count": 74,
   "metadata": {},
   "outputs": [],
   "source": [
    "import openpyxl\n",
    "\n",
    "wb = openpyxl.Workbook()\n",
    "\n",
    "sheet = wb.active\n",
    "\n",
    "le_ = len(pred)\n",
    "p = 0\n",
    "\n",
    "for i in pred:\n",
    "     k = 0\n",
    "     for j in [i]:\n",
    "          c1 = sheet.cell(row=p+1,column=k+1)\n",
    "          c1.value = str(j)\n",
    "          k+=1\n",
    "     p+=1\n",
    "\n",
    "wb.save(\"predictor.xlsx\")"
   ]
  },
  {
   "cell_type": "markdown",
   "metadata": {},
   "source": [
    "### Way Forward from here....¶\n",
    "### Key Points:\n",
    "* We need more business knowledge of the data to do more accurate feature selection\n",
    "* We need to try different models after SMOTE to improve prediction accuracy"
   ]
  }
 ],
 "metadata": {
  "kernelspec": {
   "display_name": "Python 3",
   "language": "python",
   "name": "python3"
  },
  "language_info": {
   "codemirror_mode": {
    "name": "ipython",
    "version": 3
   },
   "file_extension": ".py",
   "mimetype": "text/x-python",
   "name": "python",
   "nbconvert_exporter": "python",
   "pygments_lexer": "ipython3",
   "version": "3.6.8"
  }
 },
 "nbformat": 4,
 "nbformat_minor": 2
}
